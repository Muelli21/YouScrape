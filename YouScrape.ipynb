{
  "cells": [
    {
      "cell_type": "markdown",
      "metadata": {},
      "source": [
        "# Introduction\n",
        "\n",
        "This notebook deals with visualizing relationships between Youtube channels. On the platform, creators are able to feature other Youtube channels on their channels page. Most of them use it to recommend similar content to their users, to promote friends or other channels that belong to the same institution the recommending channel belongs to. \n",
        "\n",
        "These featured channels make it possible to investigate relationships between channels. It allows us to find clusters of channels, i.e., channels that recommend each other frequently. This might for example be applied to find Youtube channels that promote conspiracy theories, since those likely won't link to mainstream media all too often and vice versa. Moreover, it might also be the case that clusters featuring different languages might emerge. In that case it would be possible to compare subscriber counts, channel types etc. among \"cultures\". "
      ]
    },
    {
      "cell_type": "markdown",
      "metadata": {},
      "source": [
        "### Imports\n",
        "\n",
        "First of all, packages are imported. Numpy is used for array manipulation, pandas for handling dataframes, matplotlib for plotting, networkx to visualize graphs, re to use regular expressions, bs4 for convenient HTML parsing, and selenium to handle requests to Youtube. "
      ]
    },
    {
      "cell_type": "code",
      "execution_count": 3,
      "metadata": {
        "id": "AzaNHWxn5wMK"
      },
      "outputs": [],
      "source": [
        "import numpy as np\n",
        "import pandas as pd\n",
        "import matplotlib.pyplot as plt\n",
        "import networkx as nx\n",
        "\n",
        "import re\n",
        "\n",
        "from bs4 import BeautifulSoup\n",
        "from selenium.webdriver import Safari"
      ]
    },
    {
      "cell_type": "markdown",
      "metadata": {},
      "source": [
        "### Youtube Channel Links\n",
        "\n",
        "Youtube internally uses several types of unique identifiers. Historically, users had to define a user name that was their unique identifier. Nowadays, this username that was used as an identifier was replaced by a 24 character long unique identifer containing digits, characters and \"-\". \n",
        "Moreover, there is a third type of identifier Youtube uses. It is a username in combination with \"c\" as identifier type. \n",
        "\n",
        "Url templates for all types of identifiers and a generic one that can be used with all three of them can be found below"
      ]
    },
    {
      "cell_type": "code",
      "execution_count": 65,
      "metadata": {
        "id": "EleFlRMIJzli"
      },
      "outputs": [],
      "source": [
        "URL_CHANNEL_BY_ID = \"https://www.youtube.com/channel/%s/channels\"\n",
        "URL_CHANNEL_BY_USERNAME = \"https://www.youtube.com/user/%s/channels\"\n",
        "URL_CHANNEL_BY_NAME = \"https://www.youtube.com/c/%s/channels\"\n",
        "URL_CHANNEL_BY_IDENTIFIER = \"https://www.youtube.com%s/channels\"\n",
        "\n",
        "# URLS in the following format should be used:\n",
        "# For channels with channel id: https://www.youtube.com/channel/UCUueEx_ceEQrjlR9ctPNKyg/channels\n",
        "# For channels with user name: https://www.youtube.com/user/Nisi156/channels\n",
        "# For channels with id looked up by name: https://www.youtube.com/c/FunkOfficial/channels"
      ]
    },
    {
      "cell_type": "markdown",
      "metadata": {},
      "source": [
        "### Helper Functions\n",
        "\n",
        "The functions defined below are used to parse subscriber counts that are displayed below most recommended channels and identifiers from internal hyperlinks within Youtube's website. The last function is used to assemble valid links to Youtube channels given an identifier and an identifier type."
      ]
    },
    {
      "cell_type": "code",
      "execution_count": 66,
      "metadata": {},
      "outputs": [],
      "source": [
        "# Regex to remove non-numerical characters from strings\n",
        "NON_NUMERIC_REGEX = re.compile(r\"[^0-9^,]\")\n",
        "\n",
        "# Splits internal hyperlinks into identifier and identifier type\n",
        "def parse_identifier(identifier_string):\n",
        "    identifier_string = identifier_string.split(\"/\")\n",
        "\n",
        "    # There are channels featured channels like /gaming that are not real channels\n",
        "    if len(identifier_string) < 3: \n",
        "        return None, None\n",
        "\n",
        "    identifier_type = identifier_string[1]\n",
        "    identifier = identifier_string[2]\n",
        "    return identifier, identifier_type\n",
        "\n",
        "# Parses the subscriber count of featured channels\n",
        "# NOTE: This should work in multiple languages, but was only tested on Youtube's German webpage\n",
        "def parse_subs(subs_string): \n",
        "    subs_preliminary = re.sub(NON_NUMERIC_REGEX, \"\", subs_string).replace(\",\", \".\")\n",
        "    subs = int(subs_preliminary) if not \".\" in subs_preliminary else int(float(subs_preliminary) * 1e6)\n",
        "    return subs\n",
        "\n",
        "# Returns full link to a channel given its identifier and identifier type\n",
        "def identifier_to_url(identifier, identifier_type): \n",
        "    match identifier_type: \n",
        "        case \"channel\":\n",
        "            return URL_CHANNEL_BY_ID % (identifier)\n",
        "        case \"user\": \n",
        "            return URL_CHANNEL_BY_USERNAME % (identifier)\n",
        "        case \"c\": \n",
        "            return URL_CHANNEL_BY_NAME % (identifier)"
      ]
    },
    {
      "cell_type": "markdown",
      "metadata": {},
      "source": [
        "### Parsing Featured Channels\n",
        "\n",
        "For a given Youtube channel, the \"channels\" page is accessed and featured channels are extracted using the function scrape_channels. To make to request to Youtube's servers, a selenium webdriver is used that operates on top of Safari, since Youtube loads most of its website's contents dynamically and does not include them when making normal requests within python. They probably do this to promote their own API that gives them control over the API users' requests. \n",
        "\n",
        "Using selenium, however, the webpage can be loaded with all its contents and its HTML can be further processed using BeautifulSoup. "
      ]
    },
    {
      "cell_type": "code",
      "execution_count": 67,
      "metadata": {},
      "outputs": [],
      "source": [
        "\n",
        "# Returns a dict of featured channels given a channel's full identifier\n",
        "# Dict's structure: \n",
        "# { full_identifier: (channel_name, subscriber_count, identifier, identifier_type),... }\n",
        "def scrape_channels(full_identifier):\n",
        "\n",
        "    request_url = URL_CHANNEL_BY_IDENTIFIER % (full_identifier)\n",
        "\n",
        "    print(\"Scraping channels for\", request_url)\n",
        "\n",
        "    driver = Safari()\n",
        "    driver.get(request_url)\n",
        "\n",
        "    html = BeautifulSoup(driver.page_source)\n",
        "    links = html.find_all('a', { 'id': 'channel-info' })\n",
        "\n",
        "    channels = {}\n",
        "    \n",
        "    for link in links:\n",
        "\n",
        "        texts = link.get_text().strip().split(\"\\n\")\n",
        "        name = texts[0]\n",
        "        full_identifier = link['href']\n",
        "        identifier, identifier_type = parse_identifier(full_identifier)\n",
        "\n",
        "        # There are special channels such as Youtube's gaming page that don't follow the usual pattern\n",
        "        # Those channels are excluded from the investigation\n",
        "        if identifier is None: \n",
        "            continue\n",
        "\n",
        "        # If the subscriber count is hidden, it is set to -1\n",
        "        subs = parse_subs(texts[1]) if len(texts) > 1 else -1\n",
        "        channels.update({ full_identifier: (name, subs, identifier, identifier_type) })\n",
        "\n",
        "    return channels"
      ]
    },
    {
      "cell_type": "markdown",
      "metadata": {},
      "source": [
        "### Scraping Channels Recursively\n",
        "\n",
        "Using the scrape_channels function, Youtube channels are scraped recursively. Thereby, the channels that are returned by scrape_channels are used as inputs for further function calls of the scrape_channels function. \n",
        "\n",
        "Already visited pages are thereby stored in a list, to increase performance and prevent scraping channels multiple times. During the whole process, a depth first search is employed. Hence, the tree of channels to scrape grows exponentially and reducing the branching factor of this tree by not visiting channels twice is an important measure to reduce the total number of requests to Youtube's servers. "
      ]
    },
    {
      "cell_type": "code",
      "execution_count": 68,
      "metadata": {},
      "outputs": [],
      "source": [
        "# Recursively traverses the featured channels and featured channels of second order of a given root channel\n",
        "# Traversed channels are saved in the provided visited dict in the form: \n",
        "# { full_identifier: (channel_name, subscriber_count, identifier, identifier_type),... }\n",
        "# Featured channels are saved in the dict links in the form: \n",
        "# { full_identifier: [full_identifier_child1, full_identifier_child2...], ... }\n",
        "def scrape_bubble(full_identifier, depth, visited, links, leaves):\n",
        "\n",
        "    # If the depth limit is reached, exploration is stopped\n",
        "    if depth <= 0:\n",
        "        leaves.append(full_identifier)\n",
        "        return\n",
        "\n",
        "    # Scrapes all featured channels for the current channel\n",
        "    channels = scrape_channels(full_identifier)\n",
        "    links.update({full_identifier : list(channels.keys())})\n",
        "\n",
        "    for current_full_identifier, channel in channels.items():\n",
        "        # Channels are only scraped if they weren't visited before\n",
        "        if current_full_identifier not in visited:\n",
        "            visited.update({current_full_identifier: channel})\n",
        "            scrape_bubble(current_full_identifier, depth - 1, visited, links, leaves)"
      ]
    },
    {
      "cell_type": "code",
      "execution_count": 69,
      "metadata": {},
      "outputs": [],
      "source": [
        "# Leaves have to be integrated into the full network, since otherwise,\n",
        "# relationships they establish would not be counted\n",
        "# However, only relationships with channels already in the graph are considered. \n",
        "# This means, that there is no further exploration\n",
        "def include_leaves(leaves, visited, links): \n",
        "    for full_identifier in leaves: \n",
        "        channels = scrape_channels(full_identifier)\n",
        "        links.update({full_identifier : [channel for channel in channels.keys() if channel in visited]})"
      ]
    },
    {
      "cell_type": "markdown",
      "metadata": {},
      "source": [
        "### The Root Channel\n",
        "\n",
        "The recursive process defined by scrape_bubble needs a start full identifier, a depth limit for the recursive search and the dicts visited and links to store the traversed channels in. \n",
        "\n",
        "As a root channel, I chose the German channel \"funk\". It is the official Youtube channel of the content creation network \"funk\" that is a cooperation between the German public broadcasters ZDF and ARD. \"funk\" specificially targets young adults aged 14 to 29. \n",
        "\n",
        "I chose \"funk\" as a root channel, since it should theoretically be more or less unbiased and should cover a multitude of topics reaching from documentaries and science conent to entertainment and comedy. \n",
        "\n",
        "Due to using selenium for requests and the fast growth of search tree, takes quite some time. Therefore, branching factors of more than 10 probably should not be tested, since the search will take a lot of time with such parameters. "
      ]
    },
    {
      "cell_type": "code",
      "execution_count": null,
      "metadata": {
        "colab": {
          "base_uri": "https://localhost:8080/",
          "height": 315
        },
        "id": "CYPk5BNvONCe",
        "outputId": "9ec66f53-c21b-46cf-aa1f-0b53e6290caf"
      },
      "outputs": [],
      "source": [
        "full_start_identifier = \"/c/FunkOfficial\"\n",
        "visited = {\"/c/FunkOfficial\": (\"funk\", 168000, \"FunkOfficial\", \"c\")}\n",
        "links = {}\n",
        "leaves = []\n",
        "\n",
        "scrape_bubble(full_start_identifier, 6, visited, links, leaves)\n",
        "include_leaves(leaves, visited, links)\n"
      ]
    },
    {
      "cell_type": "markdown",
      "metadata": {},
      "source": [
        "### Mapping Identifiers to Channel Names and vice versa\n",
        "\n",
        "The dicts visited and links use full_identifier as keys. links also uses them within the value-lists. For further processing and visualizations, it will be helpful, to be able to map full identifiers to channel names and vice versa. Thus, a set of all unique full identifiers is created in the following. This set is then used to create the following mappings: \n",
        "\n",
        "1. index_to_full_identifier\n",
        "2. full_identifier_to_index\n",
        "3. index_to_name"
      ]
    },
    {
      "cell_type": "code",
      "execution_count": 71,
      "metadata": {},
      "outputs": [],
      "source": [
        "keys = set(links.keys())\n",
        "values = set([link for channel_links in links.values() for link in channel_links])\n",
        "\n",
        "# All full_identifiers for all scraped channels\n",
        "# They will be used to create a full_identifier to channel name or int map\n",
        "unique = keys.union(values)\n",
        "nr_unique = len(unique)\n",
        "\n",
        "index_to_full_identifier = list(unique)\n",
        "full_identifier_to_index = dict(zip(index_to_full_identifier, range(nr_unique)))\n",
        "\n",
        "index_to_name = [ visited[full_identifier][0] for full_identifier in unique ]"
      ]
    },
    {
      "cell_type": "markdown",
      "metadata": {},
      "source": [
        "### Adjacency Matrix\n",
        "\n",
        "Each channel is somehow connected to the other channels in our set. Connections are not weighted, i.e., there either is a connection or there is none. We can use an adjacency matrix to store the graph that is created by the relationships between channels. Given m channels, such a matrix has m columns and m rows, hence, m x m entries. Adjacency matrices are symmetric, if all relationships are symmetric. This would mean that a channel that is featured by another channel also features exactly this other channel.\n",
        "\n",
        "During our search, however, it became apparent that there are some channels that don't feature other channels at all. Moreover, it of course is not a necessity that two channels feature each other. Lets suppose a small channel features a very well known channel, because that one is their favorite Youtuber. In that case, the favorite Youtuber who probably has several hundred thousand or even millions of subscribers probably does not feature the \"fan\" channel. \n",
        "\n",
        "Hence, it turns out that the created adjacency matrix is not symmetrical, which is possible, since we of course deal with directed graph. "
      ]
    },
    {
      "cell_type": "code",
      "execution_count": 72,
      "metadata": {},
      "outputs": [],
      "source": [
        "# Initializes an adjacency matrix of (size nr_unique x nr_unique) with zeros\n",
        "adjacency_matrix = np.zeros(shape = (nr_unique, nr_unique))\n",
        "\n",
        "# Iterates over the key and value pairs in links and sets entries of the adjacency matrix to 1 if there is a connection\n",
        "for full_identifier, list_of_full_identifiers in links.items(): \n",
        "    index_i = full_identifier_to_index[full_identifier]\n",
        "\n",
        "    for identifier in list_of_full_identifiers:\n",
        "        index_j = full_identifier_to_index[identifier]\n",
        "        \n",
        "        adjacency_matrix[index_i, index_j] = 1"
      ]
    },
    {
      "cell_type": "markdown",
      "metadata": {},
      "source": [
        "### Visualizing the Network\n",
        "\n",
        "Given the adjacency matrix, the package \"networkx\" can be used to visualize the network of Youtube channels. Since we only know whether there are connections between channels or not we can only rely on relative positions of the channels to each other. In general, the positions of nodes - in our case channels - is arbitrary. Yet, to make the visualization visually appealing and to be able to see the relationships well, I chose a spring layout for the relative positions of the nodes. \"networkx\" describes the spring layout by the following: \n",
        "\n",
        "* *The algorithm simulates a force-directed representation of the network treating edges as springs holding nodes close, while treating nodes as repelling objects, sometimes called an anti-gravity force. Simulation continues until the positions are close to an equilibrium.*\n",
        "\n",
        "Due to this procedure, nodes are as far apart from each other as possible and as close together as necessary to not fall apart completely. This results in a nice visualization.\n",
        "\n",
        "#### Undirected Graph\n",
        "\n",
        "In belows undirected graph, it is simply assumed that to channels are related, if at least one of the channels featured the other one. In this graph we cannot see whether both featured each other or the direction of the relationship. "
      ]
    },
    {
      "cell_type": "code",
      "execution_count": null,
      "metadata": {},
      "outputs": [],
      "source": [
        "graph = nx.Graph(adjacency_matrix)\n",
        "position = nx.spring_layout(graph)\n",
        "fig = plt.figure(1, figsize=(200, 200), dpi = 50)\n",
        "nx.draw(graph, node_size = 400, font_size=30, pos = position, with_labels = True, labels = dict(zip(range(nr_unique), index_to_name)))"
      ]
    },
    {
      "cell_type": "markdown",
      "metadata": {},
      "source": [
        "#### Directed Graph\n",
        "\n",
        "In the following graph, directed edges are used. This makes it possible to see the direction of a relationship in the graph and therefore adds additional information to the visualization. "
      ]
    },
    {
      "cell_type": "code",
      "execution_count": null,
      "metadata": {},
      "outputs": [],
      "source": [
        "graph = nx.DiGraph(adjacency_matrix)\n",
        "position = nx.spring_layout(graph)\n",
        "fig = plt.figure(1, figsize=(200, 200), dpi = 50)\n",
        "nx.draw(graph, node_size = 400, font_size=30, pos = position, with_labels = True, labels = dict(zip(range(nr_unique), index_to_name)))"
      ]
    },
    {
      "cell_type": "markdown",
      "metadata": {},
      "source": [
        "### Investigating Meta Data\n",
        "\n",
        "During our traversal of the search tree, we scraped the following information for each youtube channel: \n",
        "\n",
        "1. Name\n",
        "2. Number of subscribers\n",
        "3. Identifier\n",
        "4. Channel type (c, channel, user)\n",
        "5. Number of featured channels (For leaves: Only channels within the graph are counted, the actual count might be higher)\n",
        "6. Featured channels\n",
        "\n",
        "We can gather this information in a pandas dataframe. Given the dataframe, we can then investigate the distribution of subscriber counts, channel types and featured channels. "
      ]
    },
    {
      "cell_type": "code",
      "execution_count": 7,
      "metadata": {},
      "outputs": [
        {
          "name": "stdout",
          "output_type": "stream",
          "text": [
            "(711, 7)\n"
          ]
        },
        {
          "data": {
            "text/html": [
              "<div>\n",
              "<style scoped>\n",
              "    .dataframe tbody tr th:only-of-type {\n",
              "        vertical-align: middle;\n",
              "    }\n",
              "\n",
              "    .dataframe tbody tr th {\n",
              "        vertical-align: top;\n",
              "    }\n",
              "\n",
              "    .dataframe thead th {\n",
              "        text-align: right;\n",
              "    }\n",
              "</style>\n",
              "<table border=\"1\" class=\"dataframe\">\n",
              "  <thead>\n",
              "    <tr style=\"text-align: right;\">\n",
              "      <th></th>\n",
              "      <th>Name</th>\n",
              "      <th>Subs</th>\n",
              "      <th>Identifier</th>\n",
              "      <th>Type</th>\n",
              "      <th>Full_identifier</th>\n",
              "      <th>Nr_featured</th>\n",
              "      <th>Featured</th>\n",
              "    </tr>\n",
              "  </thead>\n",
              "  <tbody>\n",
              "    <tr>\n",
              "      <th>0</th>\n",
              "      <td>funk</td>\n",
              "      <td>168000</td>\n",
              "      <td>FunkOfficial</td>\n",
              "      <td>c</td>\n",
              "      <td>/c/FunkOfficial</td>\n",
              "      <td>12</td>\n",
              "      <td>[/channel/UC-2D0N8RCgWIHG6IbqCqmzQ, /channel/U...</td>\n",
              "    </tr>\n",
              "    <tr>\n",
              "      <th>1</th>\n",
              "      <td>Ypsilon</td>\n",
              "      <td>19200</td>\n",
              "      <td>UC-2D0N8RCgWIHG6IbqCqmzQ</td>\n",
              "      <td>channel</td>\n",
              "      <td>/channel/UC-2D0N8RCgWIHG6IbqCqmzQ</td>\n",
              "      <td>7</td>\n",
              "      <td>[/user/alwaysxcaro, /user/Dimxoo, /channel/UCl...</td>\n",
              "    </tr>\n",
              "    <tr>\n",
              "      <th>2</th>\n",
              "      <td>alwaysxcaro</td>\n",
              "      <td>95200</td>\n",
              "      <td>alwaysxcaro</td>\n",
              "      <td>user</td>\n",
              "      <td>/user/alwaysxcaro</td>\n",
              "      <td>11</td>\n",
              "      <td>[/channel/UC-0NMMeN8FRZTQJ4eLA6snQ, /channel/U...</td>\n",
              "    </tr>\n",
              "    <tr>\n",
              "      <th>3</th>\n",
              "      <td>eve in lowercase</td>\n",
              "      <td>21300</td>\n",
              "      <td>UC-0NMMeN8FRZTQJ4eLA6snQ</td>\n",
              "      <td>channel</td>\n",
              "      <td>/channel/UC-0NMMeN8FRZTQJ4eLA6snQ</td>\n",
              "      <td>1</td>\n",
              "      <td>[/channel/UCM8qRGoiaLwmMv31L7xeeEQ]</td>\n",
              "    </tr>\n",
              "    <tr>\n",
              "      <th>4</th>\n",
              "      <td>Eve Cornwell</td>\n",
              "      <td>375000</td>\n",
              "      <td>UCM8qRGoiaLwmMv31L7xeeEQ</td>\n",
              "      <td>channel</td>\n",
              "      <td>/channel/UCM8qRGoiaLwmMv31L7xeeEQ</td>\n",
              "      <td>6</td>\n",
              "      <td>[/channel/UC-0NMMeN8FRZTQJ4eLA6snQ, /channel/U...</td>\n",
              "    </tr>\n",
              "  </tbody>\n",
              "</table>\n",
              "</div>"
            ],
            "text/plain": [
              "               Name    Subs                Identifier     Type  \\\n",
              "0              funk  168000              FunkOfficial        c   \n",
              "1           Ypsilon   19200  UC-2D0N8RCgWIHG6IbqCqmzQ  channel   \n",
              "2       alwaysxcaro   95200               alwaysxcaro     user   \n",
              "3  eve in lowercase   21300  UC-0NMMeN8FRZTQJ4eLA6snQ  channel   \n",
              "4      Eve Cornwell  375000  UCM8qRGoiaLwmMv31L7xeeEQ  channel   \n",
              "\n",
              "                     Full_identifier  Nr_featured  \\\n",
              "0                    /c/FunkOfficial           12   \n",
              "1  /channel/UC-2D0N8RCgWIHG6IbqCqmzQ            7   \n",
              "2                  /user/alwaysxcaro           11   \n",
              "3  /channel/UC-0NMMeN8FRZTQJ4eLA6snQ            1   \n",
              "4  /channel/UCM8qRGoiaLwmMv31L7xeeEQ            6   \n",
              "\n",
              "                                            Featured  \n",
              "0  [/channel/UC-2D0N8RCgWIHG6IbqCqmzQ, /channel/U...  \n",
              "1  [/user/alwaysxcaro, /user/Dimxoo, /channel/UCl...  \n",
              "2  [/channel/UC-0NMMeN8FRZTQJ4eLA6snQ, /channel/U...  \n",
              "3                [/channel/UCM8qRGoiaLwmMv31L7xeeEQ]  \n",
              "4  [/channel/UC-0NMMeN8FRZTQJ4eLA6snQ, /channel/U...  "
            ]
          },
          "execution_count": 7,
          "metadata": {},
          "output_type": "execute_result"
        }
      ],
      "source": [
        "data = pd.DataFrame(list(visited.values()), columns=[\"Name\",\"Subs\",\"Identifier\",\"Type\"])\n",
        "data[\"Full_identifier\"] = list(visited.keys())\n",
        "data[\"Nr_featured\"] = data[\"Full_identifier\"].apply(lambda full_identifier: len(links[full_identifier]))\n",
        "data[\"Featured\"] = data[\"Full_identifier\"].apply(lambda full_identifier: links[full_identifier])\n",
        "\n",
        "print(data.shape)\n",
        "\n",
        "data.head()"
      ]
    },
    {
      "cell_type": "markdown",
      "metadata": {},
      "source": [
        "#### Distribution of Subscriber Counts\n",
        "\n",
        "In the following distribution we notice, that most of the channels have less than 2.500.000 subscribers and that there are only a few channels with multiple millions subs. "
      ]
    },
    {
      "cell_type": "code",
      "execution_count": 11,
      "metadata": {},
      "outputs": [
        {
          "data": {
            "text/plain": [
              "<AxesSubplot:ylabel='Frequency'>"
            ]
          },
          "execution_count": 11,
          "metadata": {},
          "output_type": "execute_result"
        },
        {
          "data": {
            "image/png": "[encoded data removed]",
            "text/plain": [
              "<Figure size 1080x540 with 1 Axes>"
            ]
          },
          "metadata": {
            "needs_background": "light"
          },
          "output_type": "display_data"
        }
      ],
      "source": [
        "data[\"Subs\"].plot.hist(bins = 50, alpha = 0.5, figsize=(15,7.5))"
      ]
    },
    {
      "cell_type": "markdown",
      "metadata": {},
      "source": [
        "#### Distribution of Number of Feautred Channels\n",
        "\n",
        "The number of featured channels is relevant, since it determines the growth of our search tree, per depth layer. The average branching factor is computed below. The distribution of the number of featured channels shows us that most channels actually feature only a small amount of channels or even no channels at all. "
      ]
    },
    {
      "cell_type": "code",
      "execution_count": 77,
      "metadata": {},
      "outputs": [
        {
          "data": {
            "text/plain": [
              "2.70182841068917"
            ]
          },
          "execution_count": 77,
          "metadata": {},
          "output_type": "execute_result"
        }
      ],
      "source": [
        "# This average branching factor is not completely accurate, since again,\n",
        "# \"leave nodes\" can have childs. They differ from inner nodes by the fact that \n",
        "# their childs can only be members of the graph and further exploration is prevented\n",
        "average_branching_factor = data[\"Nr_featured\"].mean()\n",
        "average_branching_factor"
      ]
    },
    {
      "cell_type": "code",
      "execution_count": 16,
      "metadata": {},
      "outputs": [
        {
          "data": {
            "text/plain": [
              "<AxesSubplot:ylabel='Frequency'>"
            ]
          },
          "execution_count": 16,
          "metadata": {},
          "output_type": "execute_result"
        },
        {
          "data": {
            "image/png": "[encoded data removed]",
            "text/plain": [
              "<Figure size 1080x540 with 1 Axes>"
            ]
          },
          "metadata": {
            "needs_background": "light"
          },
          "output_type": "display_data"
        }
      ],
      "source": [
        "data[\"Nr_featured\"].plot.hist(alpha = 0.5, figsize=(15,7.5))"
      ]
    },
    {
      "cell_type": "markdown",
      "metadata": {},
      "source": [
        "#### Distribution of Channel Types\n",
        "\n",
        "The distribution below shows that more than half of the scraped channels are actually Youtube \"user\" accounts. Those are legacy accounts that have been created before Youtube's switch to the new 24 character channel id. The single \"c\" is due to using an abbreviated link for \"funk\"'s channel as the root node. Those abbreviated channel links are not used by Youtube internally. Hence, \"c\" only occurs once. "
      ]
    },
    {
      "cell_type": "code",
      "execution_count": 79,
      "metadata": {},
      "outputs": [
        {
          "data": {
            "text/plain": [
              "<AxesSubplot:>"
            ]
          },
          "execution_count": 79,
          "metadata": {},
          "output_type": "execute_result"
        },
        {
          "data": {
            "image/png": "[encoded data removed]",
            "text/plain": [
              "<Figure size 1080x540 with 1 Axes>"
            ]
          },
          "metadata": {
            "needs_background": "light"
          },
          "output_type": "display_data"
        }
      ],
      "source": [
        "data['Type'].value_counts().plot.bar(alpha = 0.5, figsize=(15,7.5))"
      ]
    },
    {
      "cell_type": "markdown",
      "metadata": {},
      "source": [
        "### Saving Data\n",
        "\n",
        "As a last step, we save the dataframe to csv and the adjacency matrix and identifier index and index name mappings as numpy files. "
      ]
    },
    {
      "cell_type": "code",
      "execution_count": 80,
      "metadata": {},
      "outputs": [],
      "source": [
        "data.to_csv(\"channels\")"
      ]
    },
    {
      "cell_type": "code",
      "execution_count": 81,
      "metadata": {},
      "outputs": [],
      "source": [
        "backup = {\n",
        "    \"full_start_identifier\": full_start_identifier,\n",
        "    \"visited\": visited,\n",
        "    \"links\": links,\n",
        "    \"adjacency_matrix\": adjacency_matrix, \n",
        "    \"index_to_full_identifier\": index_to_full_identifier, \n",
        "    \"full_identifier_to_index\": full_identifier_to_index, \n",
        "    \"index_to_name\": index_to_name\n",
        "}\n",
        "\n",
        "np.save('backup.npy', backup)"
      ]
    },
    {
      "cell_type": "markdown",
      "metadata": {},
      "source": [
        "### Loading Data\n",
        "\n",
        "Saved data can be loaded into the notebook again. It can then be used as before, e.g., to create dataframes etc. "
      ]
    },
    {
      "cell_type": "code",
      "execution_count": 6,
      "metadata": {},
      "outputs": [],
      "source": [
        "backup = np.load(\"./Depth 6/backup.npy\", allow_pickle='TRUE').item()\n",
        "\n",
        "full_start_identifier = backup[\"full_start_identifier\"]\n",
        "visited = backup[\"visited\"]\n",
        "links = backup[\"links\"]\n",
        "adjacency_matrix = backup[\"adjacency_matrix\"]\n",
        "index_to_full_identifier = backup[\"index_to_full_identifier\"]\n",
        "full_identifier_to_index = backup[\"full_identifier_to_index\"]\n",
        "index_to_name = backup[\"index_to_name\"]"
      ]
    }
  ],
  "metadata": {
    "colab": {
      "collapsed_sections": [],
      "name": "Project.ipynb",
      "provenance": []
    },
    "kernelspec": {
      "display_name": "Python 3",
      "name": "python3"
    },
    "language_info": {
      "codemirror_mode": {
        "name": "ipython",
        "version": 3
      },
      "file_extension": ".py",
      "mimetype": "text/x-python",
      "name": "python",
      "nbconvert_exporter": "python",
      "pygments_lexer": "ipython3",
      "version": "3.10.0"
    }
  },
  "nbformat": 4,
  "nbformat_minor": 0
}
